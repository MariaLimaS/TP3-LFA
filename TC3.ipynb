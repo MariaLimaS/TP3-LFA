{
  "nbformat": 4,
  "nbformat_minor": 0,
  "metadata": {
    "colab": {
      "provenance": [],
      "authorship_tag": "ABX9TyPZFDEg9y2qVO4dL7/eearM",
      "include_colab_link": true
    },
    "kernelspec": {
      "name": "python3",
      "display_name": "Python 3"
    },
    "language_info": {
      "name": "python"
    }
  },
  "cells": [
    {
      "cell_type": "markdown",
      "metadata": {
        "id": "view-in-github",
        "colab_type": "text"
      },
      "source": [
        "<a href=\"https://colab.research.google.com/github/MariaLimaS/TP3-LFA/blob/main/TC3.ipynb\" target=\"_parent\"><img src=\"https://colab.research.google.com/assets/colab-badge.svg\" alt=\"Open In Colab\"/></a>"
      ]
    },
    {
      "cell_type": "code",
      "execution_count": 4,
      "metadata": {
        "id": "Torx8_kZRBik"
      },
      "outputs": [],
      "source": [
        "\n",
        "def simula_afnd(estados, alfabeto, alfabetoDePilha,transicoes, inicial, finais, palavra):\n",
        "    # conjunto de estados atingíveis a partir do estado inicial com a palavra dada\n",
        "   \n",
        "    atingiveis = []\n",
        "    atingiveis.append(inicial)\n",
        "    pilha = []\n",
        "\n",
        "    #print(pilha, atingiveis)\n",
        "\n",
        "    for simbolo in palavra:\n",
        "\n",
        "      # conjunto de novos estados atingíveis com o símbolo atual\n",
        "      # print (simbolo)       \n",
        "      novos_atingiveis = []\n",
        "\n",
        "      \n",
        "      for estado in atingiveis:  \n",
        "          # obtém todas as transições possíveis a partir do estado atual e símbolo atual               \n",
        "          for origem, simb, simboloDesempilha, destino, palavraEmpilhada in transicoes:\n",
        "             #print(estado)\n",
        "             #print (origem, simb, simboloDesempilha, destino, palavraEmpilhada)\n",
        "                       \n",
        "              if (origem == estado and simb==simbolo): #Implementação da pilha\n",
        "                  if simboloDesempilha =='*' and palavraEmpilhada==['*']: \n",
        "                      novos_atingiveis.append(destino)\n",
        "                      \n",
        "                  else:\n",
        "                        if simboloDesempilha=='*' and palavraEmpilhada!=['*']:\n",
        "                              pilha[:0]=palavraEmpilhada\n",
        "                              novos_atingiveis.append(destino)\n",
        "                              \n",
        "                        else:\n",
        "                              if simboloDesempilha !='*' and palavraEmpilhada==['*']: #Caso tente excluir elementos de uma pilha vazia\n",
        "                                                                          \n",
        "                                        if pilha!=[] and pilha[0]==simboloDesempilha:\n",
        "                                          pilha.pop(0)\n",
        "                                          novos_atingiveis.append(destino)\n",
        "                                          \n",
        "                                        else:\n",
        "                                          return 'N'\n",
        "                              else:\n",
        "                                if simboloDesempilha !='*' and palavraEmpilhada!=['*']:                                                                            \n",
        "                                            if pilha!=[] and pilha[0]==simboloDesempilha:\n",
        "                                              pilha.pop(0)\n",
        "                                              novos_atingiveis.append(destino)\n",
        "                                            \n",
        "                                            else:\n",
        "                                              return 'N'\n",
        "                                            pilha[:0]=palavraEmpilhada\n",
        "                                            \n",
        "              if (origem==estado and simb =='*') :\n",
        "                 if simboloDesempilha =='*' and palavraEmpilhada==['*']: \n",
        "                    atingiveis.append(destino)\n",
        "                   \n",
        "                      \n",
        "                      \n",
        "                 else:\n",
        "                        if simboloDesempilha=='*' and palavraEmpilhada!=['*']:\n",
        "                              pilha[:0]=palavraEmpilhada\n",
        "                              atingiveis.append(destino)\n",
        "                              \n",
        "                              \n",
        "                        else:\n",
        "                              if simboloDesempilha !='*' and palavraEmpilhada==['*']: #Caso tente excluir elementos de uma pilha vazia\n",
        "                                                                          \n",
        "                                        if pilha!=[] and pilha[0]==simboloDesempilha:\n",
        "                                          pilha.pop(0)\n",
        "                                          atingiveis.append(destino)\n",
        "                                                                                 \n",
        "                                        else:\n",
        "                                          return 'N'\n",
        "                              else:\n",
        "                                if simboloDesempilha !='*' and palavraEmpilhada!=['*']:                                                                            \n",
        "                                            if pilha!=[] and pilha[0]==simboloDesempilha:\n",
        "                                              pilha.pop(0)\n",
        "                                              atingiveis.append(destino)\n",
        "                                              \n",
        "                                              \n",
        "                                            \n",
        "                                            else:\n",
        "                                              return 'N'\n",
        "                                            pilha[:0]=palavraEmpilhada\n",
        "              \n",
        "                # atualiza o conjunto de estados atingíveis com os novos estados\n",
        "         \n",
        "      atingiveis = novos_atingiveis\n",
        "\n",
        "    #print(pilha, atingiveis)\n",
        "    #print (atingiveis)\n",
        "    #print (pilha)\n",
        "\n",
        "    # verifica se algum estado atingível é final e se a pilha está vazia retornando 'S' OU 'N'\n",
        "    for estado in atingiveis:\n",
        "        if estado in finais:\n",
        "          if pilha==[]:\n",
        "            return 'S'\n",
        "    return 'N'"
      ]
    },
    {
      "cell_type": "code",
      "source": [
        "\n",
        "# leitura da entrada\n",
        "estados = input().split()   #lê pelo teclado o conjunto de estados e salva em estados\n",
        "alfabeto = input().split() #lê pelo teclado o conjunto de caracteres que formam o alfabeto da linguagem\n",
        "alfabetoDePilha = input().split() #lê pelo teclado o conjunto de caracteres que formam o alfabeto de pilha da linguagem\n",
        "num_transicoes = int(input()) #lê pelo teclado o numero de transições \n",
        "\n",
        "\n",
        "transicoes = []\n",
        "\n",
        "for i in range(num_transicoes): # lê as linhas de transições e salva no dicionário 'transições' que lê a origem, simb, simboloDesempilha, destino, palavraEmpilhada de cada linha\n",
        "    origem, simb, simboloDesempilha, destino, palavra_Empilhada = input().split()\n",
        "    palavraEmpilhada=list(palavra_Empilhada)  \n",
        "    transicoes.append(( origem, simb, simboloDesempilha, destino, palavraEmpilhada))\n",
        "\n",
        "inicial = input().strip() #lê pelo teclado o estado inicial\n",
        "finais = set(input().split()) # lê pelo teclado a lista de estados finais\n",
        "palavras_teste = input().split() #lê pelo teclado a lista de palavras de teste\n"
      ],
      "metadata": {
        "colab": {
          "base_uri": "https://localhost:8080/"
        },
        "id": "FydTKbg4RpNm",
        "outputId": "622339a5-0df5-4a13-b9cc-be1b1f7f44b2"
      },
      "execution_count": 2,
      "outputs": [
        {
          "name": "stdout",
          "output_type": "stream",
          "text": [
            "0 1 \n",
            "a b \n",
            "A \n",
            "3\n",
            "0 a * 0 A\n",
            "0 * * 1 *\n",
            "1 b A 1 *\n",
            "0\n",
            "1\n",
            "* ab ba abb aab\n"
          ]
        }
      ]
    },
    {
      "cell_type": "code",
      "source": [
        "# executa a simulação do AFND para cada palavra de teste\n",
        "for palavra in palavras_teste: #lê palavra por palavra de teste\n",
        "  print(simula_afnd(estados, alfabeto, alfabetoDePilha, transicoes, inicial, finais, palavra))\n",
        "  #manda a palavra de teste atual para a função de simulação do AFND recebendo a resposta como retorno o veredito de pertenciemnto da linguagem fornecida\n",
        "\n"
      ],
      "metadata": {
        "colab": {
          "base_uri": "https://localhost:8080/"
        },
        "id": "3-d447OsWP8H",
        "outputId": "f4d745f6-b92f-499b-dbfb-c2a330871012"
      },
      "execution_count": 5,
      "outputs": [
        {
          "output_type": "stream",
          "name": "stdout",
          "text": [
            "S\n",
            "S\n",
            "N\n",
            "N\n",
            "N\n"
          ]
        }
      ]
    }
  ]
}